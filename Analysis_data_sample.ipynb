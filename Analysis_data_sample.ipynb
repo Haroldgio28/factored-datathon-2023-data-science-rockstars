{
 "cells": [
  {
   "cell_type": "code",
   "execution_count": 55,
   "metadata": {},
   "outputs": [],
   "source": [
    "import pandas as pd\n",
    "import matplotlib.pyplot as plt\n",
    "import nltk\n",
    "import numpy as np\n",
    "import seaborn as sns\n",
    "import os\n",
    "from tqdm import tqdm\n",
    "\n",
    "plt.style.use('ggplot')"
   ]
  },
  {
   "cell_type": "code",
   "execution_count": 56,
   "metadata": {},
   "outputs": [
    {
     "name": "stderr",
     "output_type": "stream",
     "text": [
      "[nltk_data] Downloading package punkt to C:\\Users\\Harold Uribe\n",
      "[nltk_data]     Romero\\AppData\\Roaming\\nltk_data...\n",
      "[nltk_data]   Package punkt is already up-to-date!\n",
      "[nltk_data] Downloading package averaged_perceptron_tagger to\n",
      "[nltk_data]     C:\\Users\\Harold Uribe\n",
      "[nltk_data]     Romero\\AppData\\Roaming\\nltk_data...\n",
      "[nltk_data]   Package averaged_perceptron_tagger is already up-to-\n",
      "[nltk_data]       date!\n",
      "[nltk_data] Downloading package maxent_ne_chunker to C:\\Users\\Harold\n",
      "[nltk_data]     Uribe Romero\\AppData\\Roaming\\nltk_data...\n",
      "[nltk_data]   Package maxent_ne_chunker is already up-to-date!\n",
      "[nltk_data] Downloading package words to C:\\Users\\Harold Uribe\n",
      "[nltk_data]     Romero\\AppData\\Roaming\\nltk_data...\n",
      "[nltk_data]   Package words is already up-to-date!\n"
     ]
    },
    {
     "data": {
      "text/plain": [
       "True"
      ]
     },
     "execution_count": 56,
     "metadata": {},
     "output_type": "execute_result"
    }
   ],
   "source": [
    "nltk.download('punkt')\n",
    "nltk.download('averaged_perceptron_tagger')\n",
    "nltk.download('maxent_ne_chunker')\n",
    "nltk.download('words')"
   ]
  },
  {
   "cell_type": "code",
   "execution_count": 57,
   "metadata": {},
   "outputs": [],
   "source": [
    "folder = \"../factored-datathon-2023-data-science-rockstars/GroupedAndGames/games\""
   ]
  },
  {
   "cell_type": "code",
   "execution_count": 58,
   "metadata": {},
   "outputs": [],
   "source": [
    "files = [file for file in os.listdir(folder) if file.endswith('.gzip')]"
   ]
  },
  {
   "cell_type": "code",
   "execution_count": 59,
   "metadata": {},
   "outputs": [],
   "source": [
    "# Leer todos los archivos y almacenarlos en una lista\n",
    "dataframes = []\n",
    "for file in files:\n",
    "    ruta_archivo = os.path.join(folder, file)\n",
    "    df = pd.read_parquet(ruta_archivo, engine='fastparquet')\n",
    "    dataframes.append(df)\n",
    "\n",
    "# Combinar los DataFrames en uno solo\n",
    "df = pd.concat(dataframes, ignore_index=True)\n",
    "df['id'] = df.reset_index().index"
   ]
  },
  {
   "cell_type": "code",
   "execution_count": 60,
   "metadata": {},
   "outputs": [
    {
     "data": {
      "text/plain": [
       "['final_df_games_1_1.gzip', 'final_df_games_1_2.gzip']"
      ]
     },
     "execution_count": 60,
     "metadata": {},
     "output_type": "execute_result"
    }
   ],
   "source": [
    "files"
   ]
  },
  {
   "cell_type": "code",
   "execution_count": 61,
   "metadata": {},
   "outputs": [
    {
     "data": {
      "text/plain": [
       "(1257815, 10)"
      ]
     },
     "execution_count": 61,
     "metadata": {},
     "output_type": "execute_result"
    }
   ],
   "source": [
    "df.shape"
   ]
  },
  {
   "cell_type": "code",
   "execution_count": 62,
   "metadata": {},
   "outputs": [
    {
     "data": {
      "text/html": [
       "<div>\n",
       "<style scoped>\n",
       "    .dataframe tbody tr th:only-of-type {\n",
       "        vertical-align: middle;\n",
       "    }\n",
       "\n",
       "    .dataframe tbody tr th {\n",
       "        vertical-align: top;\n",
       "    }\n",
       "\n",
       "    .dataframe thead th {\n",
       "        text-align: right;\n",
       "    }\n",
       "</style>\n",
       "<table border=\"1\" class=\"dataframe\">\n",
       "  <thead>\n",
       "    <tr style=\"text-align: right;\">\n",
       "      <th></th>\n",
       "      <th>asin</th>\n",
       "      <th>overall</th>\n",
       "      <th>reviewText</th>\n",
       "      <th>reviewerID</th>\n",
       "      <th>summary</th>\n",
       "      <th>verified</th>\n",
       "      <th>style</th>\n",
       "      <th>vote</th>\n",
       "      <th>YearMonth</th>\n",
       "      <th>id</th>\n",
       "    </tr>\n",
       "  </thead>\n",
       "  <tbody>\n",
       "    <tr>\n",
       "      <th>0</th>\n",
       "      <td>B00005QDQ1</td>\n",
       "      <td>4</td>\n",
       "      <td>We really liked this game years ago so we were...</td>\n",
       "      <td>A1K8PBV6CDUSVC</td>\n",
       "      <td>We really liked this game years ago so we were...</td>\n",
       "      <td>True</td>\n",
       "      <td>{\"Platform:\":\" GameCube\"}</td>\n",
       "      <td>0</td>\n",
       "      <td>201702</td>\n",
       "      <td>0</td>\n",
       "    </tr>\n",
       "    <tr>\n",
       "      <th>1</th>\n",
       "      <td>B00005QDQ1</td>\n",
       "      <td>5</td>\n",
       "      <td>Great product:) love this game</td>\n",
       "      <td>A31573ZF0O4OET</td>\n",
       "      <td>Five Stars</td>\n",
       "      <td>True</td>\n",
       "      <td>{\"Platform:\":\" GameCube\"}</td>\n",
       "      <td>0</td>\n",
       "      <td>201701</td>\n",
       "      <td>1</td>\n",
       "    </tr>\n",
       "    <tr>\n",
       "      <th>2</th>\n",
       "      <td>B00005QDQ1</td>\n",
       "      <td>5</td>\n",
       "      <td>Wonderful game. It's such a fun and addicting ...</td>\n",
       "      <td>AY7KR50KFPMSY</td>\n",
       "      <td>Wonderful game. It's such a fun and addicting ...</td>\n",
       "      <td>True</td>\n",
       "      <td>{\"Platform:\":\" GameCube\"}</td>\n",
       "      <td>0</td>\n",
       "      <td>201701</td>\n",
       "      <td>2</td>\n",
       "    </tr>\n",
       "    <tr>\n",
       "      <th>3</th>\n",
       "      <td>B00005QDQ1</td>\n",
       "      <td>1</td>\n",
       "      <td>the game never worked for me, too scratched up.</td>\n",
       "      <td>A3B6S9V2ZVF7BH</td>\n",
       "      <td>One Star</td>\n",
       "      <td>True</td>\n",
       "      <td>{\"Platform:\":\" GameCube\"}</td>\n",
       "      <td>0</td>\n",
       "      <td>201612</td>\n",
       "      <td>3</td>\n",
       "    </tr>\n",
       "    <tr>\n",
       "      <th>4</th>\n",
       "      <td>B00005QDQ1</td>\n",
       "      <td>5</td>\n",
       "      <td>Everything, including the game, was in good co...</td>\n",
       "      <td>A1X7BL5ES784U6</td>\n",
       "      <td>was in good condition and had no problems working</td>\n",
       "      <td>True</td>\n",
       "      <td>{\"Platform:\":\" GameCube\"}</td>\n",
       "      <td>0</td>\n",
       "      <td>201611</td>\n",
       "      <td>4</td>\n",
       "    </tr>\n",
       "  </tbody>\n",
       "</table>\n",
       "</div>"
      ],
      "text/plain": [
       "         asin  overall                                         reviewText  \\\n",
       "0  B00005QDQ1        4  We really liked this game years ago so we were...   \n",
       "1  B00005QDQ1        5                     Great product:) love this game   \n",
       "2  B00005QDQ1        5  Wonderful game. It's such a fun and addicting ...   \n",
       "3  B00005QDQ1        1    the game never worked for me, too scratched up.   \n",
       "4  B00005QDQ1        5  Everything, including the game, was in good co...   \n",
       "\n",
       "       reviewerID                                            summary  \\\n",
       "0  A1K8PBV6CDUSVC  We really liked this game years ago so we were...   \n",
       "1  A31573ZF0O4OET                                         Five Stars   \n",
       "2   AY7KR50KFPMSY  Wonderful game. It's such a fun and addicting ...   \n",
       "3  A3B6S9V2ZVF7BH                                           One Star   \n",
       "4  A1X7BL5ES784U6  was in good condition and had no problems working   \n",
       "\n",
       "   verified                      style  vote  YearMonth  id  \n",
       "0      True  {\"Platform:\":\" GameCube\"}     0     201702   0  \n",
       "1      True  {\"Platform:\":\" GameCube\"}     0     201701   1  \n",
       "2      True  {\"Platform:\":\" GameCube\"}     0     201701   2  \n",
       "3      True  {\"Platform:\":\" GameCube\"}     0     201612   3  \n",
       "4      True  {\"Platform:\":\" GameCube\"}     0     201611   4  "
      ]
     },
     "execution_count": 62,
     "metadata": {},
     "output_type": "execute_result"
    }
   ],
   "source": [
    "df.head()"
   ]
  },
  {
   "cell_type": "code",
   "execution_count": 63,
   "metadata": {},
   "outputs": [
    {
     "data": {
      "text/plain": [
       "'Everything, including the game, was in good condition and had no problems working.'"
      ]
     },
     "execution_count": 63,
     "metadata": {},
     "output_type": "execute_result"
    }
   ],
   "source": [
    "df['reviewText'].values[4]"
   ]
  },
  {
   "cell_type": "code",
   "execution_count": 64,
   "metadata": {},
   "outputs": [
    {
     "data": {
      "image/png": "[encoded data removed]",
      "text/plain": [
       "<Figure size 1500x500 with 1 Axes>"
      ]
     },
     "metadata": {},
     "output_type": "display_data"
    }
   ],
   "source": [
    "ax = df['overall'].value_counts().sort_index().plot\\\n",
    "    (kind='bar',title = 'Count of reviews by overall score',figsize=(15, 5))\n",
    "\n",
    "ax.set_xlabel(\"Overall Score\")\n",
    "ax.set_ylabel(\"Count of Reviews\")\n",
    "plt.show()"
   ]
  },
  {
   "cell_type": "code",
   "execution_count": 65,
   "metadata": {},
   "outputs": [
    {
     "data": {
      "text/plain": [
       "'We really liked this game years ago so we were very excited to get it. Unfortunately the disk would get to the start screen and then we would get the disk cannot be read error. We followed the instructions in the booklet for cleaning and it still would not play. So we returned it for a full refund. Since we really liked the game in the past I gave it four stars.'"
      ]
     },
     "execution_count": 65,
     "metadata": {},
     "output_type": "execute_result"
    }
   ],
   "source": [
    "example = df['reviewText'][0]\n",
    "example"
   ]
  },
  {
   "cell_type": "code",
   "execution_count": 66,
   "metadata": {},
   "outputs": [
    {
     "data": {
      "text/plain": [
       "list"
      ]
     },
     "execution_count": 66,
     "metadata": {},
     "output_type": "execute_result"
    }
   ],
   "source": [
    "tokens = nltk.word_tokenize(example)\n",
    "type(tokens)"
   ]
  },
  {
   "cell_type": "code",
   "execution_count": 67,
   "metadata": {},
   "outputs": [
    {
     "data": {
      "text/plain": [
       "[('We', 'PRP'),\n",
       " ('really', 'RB'),\n",
       " ('liked', 'VBD'),\n",
       " ('this', 'DT'),\n",
       " ('game', 'NN'),\n",
       " ('years', 'NNS'),\n",
       " ('ago', 'RB'),\n",
       " ('so', 'IN'),\n",
       " ('we', 'PRP'),\n",
       " ('were', 'VBD'),\n",
       " ('very', 'RB'),\n",
       " ('excited', 'VBN'),\n",
       " ('to', 'TO'),\n",
       " ('get', 'VB'),\n",
       " ('it', 'PRP'),\n",
       " ('.', '.'),\n",
       " ('Unfortunately', 'RB'),\n",
       " ('the', 'DT'),\n",
       " ('disk', 'NN'),\n",
       " ('would', 'MD'),\n",
       " ('get', 'VB'),\n",
       " ('to', 'TO'),\n",
       " ('the', 'DT'),\n",
       " ('start', 'NN'),\n",
       " ('screen', 'NN'),\n",
       " ('and', 'CC'),\n",
       " ('then', 'RB'),\n",
       " ('we', 'PRP'),\n",
       " ('would', 'MD'),\n",
       " ('get', 'VB'),\n",
       " ('the', 'DT'),\n",
       " ('disk', 'NN'),\n",
       " ('can', 'MD'),\n",
       " ('not', 'RB'),\n",
       " ('be', 'VB'),\n",
       " ('read', 'VBN'),\n",
       " ('error', 'NN'),\n",
       " ('.', '.'),\n",
       " ('We', 'PRP'),\n",
       " ('followed', 'VBD'),\n",
       " ('the', 'DT'),\n",
       " ('instructions', 'NNS'),\n",
       " ('in', 'IN'),\n",
       " ('the', 'DT'),\n",
       " ('booklet', 'NN'),\n",
       " ('for', 'IN'),\n",
       " ('cleaning', 'NN'),\n",
       " ('and', 'CC'),\n",
       " ('it', 'PRP'),\n",
       " ('still', 'RB'),\n",
       " ('would', 'MD'),\n",
       " ('not', 'RB'),\n",
       " ('play', 'VB'),\n",
       " ('.', '.'),\n",
       " ('So', 'IN'),\n",
       " ('we', 'PRP'),\n",
       " ('returned', 'VBD'),\n",
       " ('it', 'PRP'),\n",
       " ('for', 'IN'),\n",
       " ('a', 'DT'),\n",
       " ('full', 'JJ'),\n",
       " ('refund', 'NN'),\n",
       " ('.', '.'),\n",
       " ('Since', 'IN'),\n",
       " ('we', 'PRP'),\n",
       " ('really', 'RB'),\n",
       " ('liked', 'VBD'),\n",
       " ('the', 'DT'),\n",
       " ('game', 'NN'),\n",
       " ('in', 'IN'),\n",
       " ('the', 'DT'),\n",
       " ('past', 'JJ'),\n",
       " ('I', 'PRP'),\n",
       " ('gave', 'VBD'),\n",
       " ('it', 'PRP'),\n",
       " ('four', 'CD'),\n",
       " ('stars', 'NNS'),\n",
       " ('.', '.')]"
      ]
     },
     "execution_count": 67,
     "metadata": {},
     "output_type": "execute_result"
    }
   ],
   "source": [
    "tagged = nltk.pos_tag(tokens)\n",
    "tagged"
   ]
  },
  {
   "cell_type": "code",
   "execution_count": 68,
   "metadata": {},
   "outputs": [
    {
     "name": "stdout",
     "output_type": "stream",
     "text": [
      "(S\n",
      "  We/PRP\n",
      "  really/RB\n",
      "  liked/VBD\n",
      "  this/DT\n",
      "  game/NN\n",
      "  years/NNS\n",
      "  ago/RB\n",
      "  so/IN\n",
      "  we/PRP\n",
      "  were/VBD\n",
      "  very/RB\n",
      "  excited/VBN\n",
      "  to/TO\n",
      "  get/VB\n",
      "  it/PRP\n",
      "  ./.\n",
      "  Unfortunately/RB\n",
      "  the/DT\n",
      "  disk/NN\n",
      "  would/MD\n",
      "  get/VB\n",
      "  to/TO\n",
      "  the/DT\n",
      "  start/NN\n",
      "  screen/NN\n",
      "  and/CC\n",
      "  then/RB\n",
      "  we/PRP\n",
      "  would/MD\n",
      "  get/VB\n",
      "  the/DT\n",
      "  disk/NN\n",
      "  can/MD\n",
      "  not/RB\n",
      "  be/VB\n",
      "  read/VBN\n",
      "  error/NN\n",
      "  ./.\n",
      "  We/PRP\n",
      "  followed/VBD\n",
      "  the/DT\n",
      "  instructions/NNS\n",
      "  in/IN\n",
      "  the/DT\n",
      "  booklet/NN\n",
      "  for/IN\n",
      "  cleaning/NN\n",
      "  and/CC\n",
      "  it/PRP\n",
      "  still/RB\n",
      "  would/MD\n",
      "  not/RB\n",
      "  play/VB\n",
      "  ./.\n",
      "  So/IN\n",
      "  we/PRP\n",
      "  returned/VBD\n",
      "  it/PRP\n",
      "  for/IN\n",
      "  a/DT\n",
      "  full/JJ\n",
      "  refund/NN\n",
      "  ./.\n",
      "  Since/IN\n",
      "  we/PRP\n",
      "  really/RB\n",
      "  liked/VBD\n",
      "  the/DT\n",
      "  game/NN\n",
      "  in/IN\n",
      "  the/DT\n",
      "  past/JJ\n",
      "  I/PRP\n",
      "  gave/VBD\n",
      "  it/PRP\n",
      "  four/CD\n",
      "  stars/NNS\n",
      "  ./.)\n"
     ]
    }
   ],
   "source": [
    "entities = nltk.chunk.ne_chunk(tagged)\n",
    "entities.pprint()"
   ]
  },
  {
   "cell_type": "code",
   "execution_count": 69,
   "metadata": {},
   "outputs": [],
   "source": [
    "from transformers import AutoTokenizer, AutoModelForSequenceClassification\n",
    "from scipy.special import softmax"
   ]
  },
  {
   "cell_type": "code",
   "execution_count": 70,
   "metadata": {},
   "outputs": [],
   "source": [
    "MODEL = f\"cardiffnlp/twitter-roberta-base-sentiment\"\n",
    "tokenizer = AutoTokenizer.from_pretrained(MODEL)\n",
    "model = AutoModelForSequenceClassification.from_pretrained(MODEL)"
   ]
  },
  {
   "cell_type": "code",
   "execution_count": 71,
   "metadata": {},
   "outputs": [
    {
     "data": {
      "text/plain": [
       "'We really liked this game years ago so we were very excited to get it. Unfortunately the disk would get to the start screen and then we would get the disk cannot be read error. We followed the instructions in the booklet for cleaning and it still would not play. So we returned it for a full refund. Since we really liked the game in the past I gave it four stars.'"
      ]
     },
     "execution_count": 71,
     "metadata": {},
     "output_type": "execute_result"
    }
   ],
   "source": [
    "example"
   ]
  },
  {
   "cell_type": "code",
   "execution_count": 72,
   "metadata": {},
   "outputs": [
    {
     "data": {
      "text/plain": [
       "array([0.13350728, 0.30459175, 0.561901  ], dtype=float32)"
      ]
     },
     "execution_count": 72,
     "metadata": {},
     "output_type": "execute_result"
    }
   ],
   "source": [
    "encoded_text = tokenizer(example,return_tensors='pt')\n",
    "output = model(**encoded_text)\n",
    "scores = output[0][0].detach().numpy()\n",
    "scores = softmax(scores)\n",
    "scores"
   ]
  },
  {
   "cell_type": "code",
   "execution_count": 73,
   "metadata": {},
   "outputs": [],
   "source": [
    "def polarity_score_roberta(text):\n",
    "    \"\"\"\n",
    "    Returns polarity score of the text using Roberta model\n",
    "    \"\"\"\n",
    "    encoded_text = tokenizer(text,return_tensors='pt')\n",
    "    output = model(**encoded_text)\n",
    "    scores = output[0][0].detach().numpy()\n",
    "    scores = softmax(scores)\n",
    "    scores_dict = {\n",
    "        'negative': scores[0],\n",
    "        'neutral': scores[1],\n",
    "        'positive': scores[2]\n",
    "    }\n",
    "\n",
    "    return scores_dict"
   ]
  },
  {
   "cell_type": "code",
   "execution_count": 74,
   "metadata": {},
   "outputs": [
    {
     "data": {
      "text/html": [
       "<div>\n",
       "<style scoped>\n",
       "    .dataframe tbody tr th:only-of-type {\n",
       "        vertical-align: middle;\n",
       "    }\n",
       "\n",
       "    .dataframe tbody tr th {\n",
       "        vertical-align: top;\n",
       "    }\n",
       "\n",
       "    .dataframe thead th {\n",
       "        text-align: right;\n",
       "    }\n",
       "</style>\n",
       "<table border=\"1\" class=\"dataframe\">\n",
       "  <thead>\n",
       "    <tr style=\"text-align: right;\">\n",
       "      <th></th>\n",
       "      <th>asin</th>\n",
       "      <th>overall</th>\n",
       "      <th>reviewText</th>\n",
       "      <th>reviewerID</th>\n",
       "      <th>summary</th>\n",
       "      <th>verified</th>\n",
       "      <th>style</th>\n",
       "      <th>vote</th>\n",
       "      <th>YearMonth</th>\n",
       "      <th>id</th>\n",
       "    </tr>\n",
       "  </thead>\n",
       "  <tbody>\n",
       "    <tr>\n",
       "      <th>209641</th>\n",
       "      <td>B00005TNI6</td>\n",
       "      <td>5</td>\n",
       "      <td>loved it</td>\n",
       "      <td>A1MQ8S2BNGKMJ9</td>\n",
       "      <td>Five Stars</td>\n",
       "      <td>True</td>\n",
       "      <td>{\"Format:\":\" Video Game\"}</td>\n",
       "      <td>0</td>\n",
       "      <td>201502</td>\n",
       "      <td>209641</td>\n",
       "    </tr>\n",
       "    <tr>\n",
       "      <th>242331</th>\n",
       "      <td>B000066TS5</td>\n",
       "      <td>5</td>\n",
       "      <td>another awsome game with great graphics have f...</td>\n",
       "      <td>AZOMKP7Q7B79L</td>\n",
       "      <td>fantasy gams 2</td>\n",
       "      <td>True</td>\n",
       "      <td>{\"Format:\":\" Video Game\"}</td>\n",
       "      <td>0</td>\n",
       "      <td>201307</td>\n",
       "      <td>242331</td>\n",
       "    </tr>\n",
       "    <tr>\n",
       "      <th>764631</th>\n",
       "      <td>B000069D39</td>\n",
       "      <td>5</td>\n",
       "      <td>Was one of my favorite as a kid... Oh the memo...</td>\n",
       "      <td>AORFX6O9FI1O6</td>\n",
       "      <td>Nostaliga abound</td>\n",
       "      <td>True</td>\n",
       "      <td>{\"Platform:\":\" PlayStation2\"}</td>\n",
       "      <td>0</td>\n",
       "      <td>201510</td>\n",
       "      <td>764631</td>\n",
       "    </tr>\n",
       "    <tr>\n",
       "      <th>786607</th>\n",
       "      <td>B00005R5PO</td>\n",
       "      <td>5</td>\n",
       "      <td>Great condition, works perfectly.</td>\n",
       "      <td>A27XMV7PAQERVM</td>\n",
       "      <td>Five Stars</td>\n",
       "      <td>True</td>\n",
       "      <td>{\"Format:\":\" Video Game\"}</td>\n",
       "      <td>0</td>\n",
       "      <td>201703</td>\n",
       "      <td>786607</td>\n",
       "    </tr>\n",
       "    <tr>\n",
       "      <th>1249055</th>\n",
       "      <td>B0000640A2</td>\n",
       "      <td>5</td>\n",
       "      <td>I played this game with my son when he was thr...</td>\n",
       "      <td>ALNUW46IIPZ15</td>\n",
       "      <td>Memories</td>\n",
       "      <td>True</td>\n",
       "      <td>{\"Platform:\":\" PlayStation2\"}</td>\n",
       "      <td>2</td>\n",
       "      <td>201508</td>\n",
       "      <td>1249055</td>\n",
       "    </tr>\n",
       "    <tr>\n",
       "      <th>...</th>\n",
       "      <td>...</td>\n",
       "      <td>...</td>\n",
       "      <td>...</td>\n",
       "      <td>...</td>\n",
       "      <td>...</td>\n",
       "      <td>...</td>\n",
       "      <td>...</td>\n",
       "      <td>...</td>\n",
       "      <td>...</td>\n",
       "      <td>...</td>\n",
       "    </tr>\n",
       "    <tr>\n",
       "      <th>886213</th>\n",
       "      <td>B000066JRN</td>\n",
       "      <td>5</td>\n",
       "      <td>My son likes Mario brothers a lot so I order o...</td>\n",
       "      <td>A3FI8CH9N629GK</td>\n",
       "      <td>My son likes mario brothers a lot!!</td>\n",
       "      <td>True</td>\n",
       "      <td>{\"Format:\":\" Video Game\"}</td>\n",
       "      <td>0</td>\n",
       "      <td>201503</td>\n",
       "      <td>886213</td>\n",
       "    </tr>\n",
       "    <tr>\n",
       "      <th>574301</th>\n",
       "      <td>B000066TS5</td>\n",
       "      <td>5</td>\n",
       "      <td>Honestly, I am writing this because I feel tha...</td>\n",
       "      <td>A1L5W5VS0MKHMV</td>\n",
       "      <td>Amazing</td>\n",
       "      <td>True</td>\n",
       "      <td>{\"Format:\":\" Video Game\"}</td>\n",
       "      <td>0</td>\n",
       "      <td>201205</td>\n",
       "      <td>574301</td>\n",
       "    </tr>\n",
       "    <tr>\n",
       "      <th>659567</th>\n",
       "      <td>B00005TS56</td>\n",
       "      <td>1</td>\n",
       "      <td>I really feel the could be so much better. The...</td>\n",
       "      <td>A1LRMIT5RUXQD4</td>\n",
       "      <td>Bad</td>\n",
       "      <td>True</td>\n",
       "      <td>{\"Platform:\":\" PC Download\"}</td>\n",
       "      <td>0</td>\n",
       "      <td>201212</td>\n",
       "      <td>659567</td>\n",
       "    </tr>\n",
       "    <tr>\n",
       "      <th>998767</th>\n",
       "      <td>B00005V6BP</td>\n",
       "      <td>5</td>\n",
       "      <td>Came in good condition...Waiting for a compone...</td>\n",
       "      <td>A3P7J60L0F5FHD</td>\n",
       "      <td>Came in good condition.</td>\n",
       "      <td>True</td>\n",
       "      <td>{\"Platform:\":\" PlayStation2\"}</td>\n",
       "      <td>0</td>\n",
       "      <td>201410</td>\n",
       "      <td>998767</td>\n",
       "    </tr>\n",
       "    <tr>\n",
       "      <th>977302</th>\n",
       "      <td>B0000640A2</td>\n",
       "      <td>1</td>\n",
       "      <td>The game didn't even work as soon as I put it ...</td>\n",
       "      <td>A3SB4BXR62SEEE</td>\n",
       "      <td>It didn't work</td>\n",
       "      <td>True</td>\n",
       "      <td>{\"Platform:\":\" PlayStation2\"}</td>\n",
       "      <td>0</td>\n",
       "      <td>201406</td>\n",
       "      <td>977302</td>\n",
       "    </tr>\n",
       "  </tbody>\n",
       "</table>\n",
       "<p>125782 rows × 10 columns</p>\n",
       "</div>"
      ],
      "text/plain": [
       "               asin  overall  \\\n",
       "209641   B00005TNI6        5   \n",
       "242331   B000066TS5        5   \n",
       "764631   B000069D39        5   \n",
       "786607   B00005R5PO        5   \n",
       "1249055  B0000640A2        5   \n",
       "...             ...      ...   \n",
       "886213   B000066JRN        5   \n",
       "574301   B000066TS5        5   \n",
       "659567   B00005TS56        1   \n",
       "998767   B00005V6BP        5   \n",
       "977302   B0000640A2        1   \n",
       "\n",
       "                                                reviewText      reviewerID  \\\n",
       "209641                                            loved it  A1MQ8S2BNGKMJ9   \n",
       "242331   another awsome game with great graphics have f...   AZOMKP7Q7B79L   \n",
       "764631   Was one of my favorite as a kid... Oh the memo...   AORFX6O9FI1O6   \n",
       "786607                   Great condition, works perfectly.  A27XMV7PAQERVM   \n",
       "1249055  I played this game with my son when he was thr...   ALNUW46IIPZ15   \n",
       "...                                                    ...             ...   \n",
       "886213   My son likes Mario brothers a lot so I order o...  A3FI8CH9N629GK   \n",
       "574301   Honestly, I am writing this because I feel tha...  A1L5W5VS0MKHMV   \n",
       "659567   I really feel the could be so much better. The...  A1LRMIT5RUXQD4   \n",
       "998767   Came in good condition...Waiting for a compone...  A3P7J60L0F5FHD   \n",
       "977302   The game didn't even work as soon as I put it ...  A3SB4BXR62SEEE   \n",
       "\n",
       "                                     summary  verified  \\\n",
       "209641                            Five Stars      True   \n",
       "242331                        fantasy gams 2      True   \n",
       "764631                      Nostaliga abound      True   \n",
       "786607                            Five Stars      True   \n",
       "1249055                             Memories      True   \n",
       "...                                      ...       ...   \n",
       "886213   My son likes mario brothers a lot!!      True   \n",
       "574301                               Amazing      True   \n",
       "659567                                   Bad      True   \n",
       "998767               Came in good condition.      True   \n",
       "977302                        It didn't work      True   \n",
       "\n",
       "                                 style  vote  YearMonth       id  \n",
       "209641       {\"Format:\":\" Video Game\"}     0     201502   209641  \n",
       "242331       {\"Format:\":\" Video Game\"}     0     201307   242331  \n",
       "764631   {\"Platform:\":\" PlayStation2\"}     0     201510   764631  \n",
       "786607       {\"Format:\":\" Video Game\"}     0     201703   786607  \n",
       "1249055  {\"Platform:\":\" PlayStation2\"}     2     201508  1249055  \n",
       "...                                ...   ...        ...      ...  \n",
       "886213       {\"Format:\":\" Video Game\"}     0     201503   886213  \n",
       "574301       {\"Format:\":\" Video Game\"}     0     201205   574301  \n",
       "659567    {\"Platform:\":\" PC Download\"}     0     201212   659567  \n",
       "998767   {\"Platform:\":\" PlayStation2\"}     0     201410   998767  \n",
       "977302   {\"Platform:\":\" PlayStation2\"}     0     201406   977302  \n",
       "\n",
       "[125782 rows x 10 columns]"
      ]
     },
     "execution_count": 74,
     "metadata": {},
     "output_type": "execute_result"
    }
   ],
   "source": [
    "# df2=df[:int(len(df)*0.0001)]\n",
    "df2 = df.sample(frac=0.1, random_state=1)\n",
    "df2"
   ]
  },
  {
   "cell_type": "code",
   "execution_count": 75,
   "metadata": {},
   "outputs": [
    {
     "name": "stderr",
     "output_type": "stream",
     "text": [
      "100%|██████████| 125782/125782 [5:15:04<00:00,  6.65it/s]  \n"
     ]
    }
   ],
   "source": [
    "res ={}\n",
    "\n",
    "for i, row in tqdm(df2.iterrows(),total = len(df2)):\n",
    "    try:\n",
    "        try:\n",
    "            try:\n",
    "                text = row['reviewText']\n",
    "                myid = row['id']\n",
    "                # print(myid)\n",
    "                roberta_result = polarity_score_roberta(text)\n",
    "                res[myid] = roberta_result\n",
    "            except RuntimeError:\n",
    "                # print(f'Broke for id {myid}')\n",
    "                continue\n",
    "        except ValueError:\n",
    "            # print(f'ValueError for id {myid}')\n",
    "            continue\n",
    "    except IndexError:\n",
    "        # print(f'IndexError for id {myid}')\n",
    "        continue\n",
    "\n",
    "results_dfsample = pd.DataFrame(res).T\n",
    "results_dfsample = results_dfsample.reset_index().rename(columns={'index': 'id'})\n",
    "results_dfsample.to_parquet('results_dfsample.parquet')\n"
   ]
  },
  {
   "cell_type": "code",
   "execution_count": 48,
   "metadata": {},
   "outputs": [
    {
     "data": {
      "text/html": [
       "<div>\n",
       "<style scoped>\n",
       "    .dataframe tbody tr th:only-of-type {\n",
       "        vertical-align: middle;\n",
       "    }\n",
       "\n",
       "    .dataframe tbody tr th {\n",
       "        vertical-align: top;\n",
       "    }\n",
       "\n",
       "    .dataframe thead th {\n",
       "        text-align: right;\n",
       "    }\n",
       "</style>\n",
       "<table border=\"1\" class=\"dataframe\">\n",
       "  <thead>\n",
       "    <tr style=\"text-align: right;\">\n",
       "      <th></th>\n",
       "      <th>negative</th>\n",
       "      <th>neutral</th>\n",
       "      <th>positive</th>\n",
       "    </tr>\n",
       "  </thead>\n",
       "  <tbody>\n",
       "    <tr>\n",
       "      <th>209641</th>\n",
       "      <td>0.009482</td>\n",
       "      <td>0.035640</td>\n",
       "      <td>0.954878</td>\n",
       "    </tr>\n",
       "    <tr>\n",
       "      <th>242331</th>\n",
       "      <td>0.001535</td>\n",
       "      <td>0.007142</td>\n",
       "      <td>0.991323</td>\n",
       "    </tr>\n",
       "    <tr>\n",
       "      <th>764631</th>\n",
       "      <td>0.001780</td>\n",
       "      <td>0.013003</td>\n",
       "      <td>0.985216</td>\n",
       "    </tr>\n",
       "    <tr>\n",
       "      <th>786607</th>\n",
       "      <td>0.006377</td>\n",
       "      <td>0.066791</td>\n",
       "      <td>0.926832</td>\n",
       "    </tr>\n",
       "    <tr>\n",
       "      <th>1249055</th>\n",
       "      <td>0.002276</td>\n",
       "      <td>0.019207</td>\n",
       "      <td>0.978517</td>\n",
       "    </tr>\n",
       "    <tr>\n",
       "      <th>...</th>\n",
       "      <td>...</td>\n",
       "      <td>...</td>\n",
       "      <td>...</td>\n",
       "    </tr>\n",
       "    <tr>\n",
       "      <th>403427</th>\n",
       "      <td>0.009660</td>\n",
       "      <td>0.175109</td>\n",
       "      <td>0.815231</td>\n",
       "    </tr>\n",
       "    <tr>\n",
       "      <th>1012517</th>\n",
       "      <td>0.006522</td>\n",
       "      <td>0.106089</td>\n",
       "      <td>0.887389</td>\n",
       "    </tr>\n",
       "    <tr>\n",
       "      <th>885178</th>\n",
       "      <td>0.947042</td>\n",
       "      <td>0.045595</td>\n",
       "      <td>0.007364</td>\n",
       "    </tr>\n",
       "    <tr>\n",
       "      <th>82321</th>\n",
       "      <td>0.001989</td>\n",
       "      <td>0.004441</td>\n",
       "      <td>0.993570</td>\n",
       "    </tr>\n",
       "    <tr>\n",
       "      <th>593893</th>\n",
       "      <td>0.001696</td>\n",
       "      <td>0.007883</td>\n",
       "      <td>0.990421</td>\n",
       "    </tr>\n",
       "  </tbody>\n",
       "</table>\n",
       "<p>1240 rows × 3 columns</p>\n",
       "</div>"
      ],
      "text/plain": [
       "         negative   neutral  positive\n",
       "209641   0.009482  0.035640  0.954878\n",
       "242331   0.001535  0.007142  0.991323\n",
       "764631   0.001780  0.013003  0.985216\n",
       "786607   0.006377  0.066791  0.926832\n",
       "1249055  0.002276  0.019207  0.978517\n",
       "...           ...       ...       ...\n",
       "403427   0.009660  0.175109  0.815231\n",
       "1012517  0.006522  0.106089  0.887389\n",
       "885178   0.947042  0.045595  0.007364\n",
       "82321    0.001989  0.004441  0.993570\n",
       "593893   0.001696  0.007883  0.990421\n",
       "\n",
       "[1240 rows x 3 columns]"
      ]
     },
     "execution_count": 48,
     "metadata": {},
     "output_type": "execute_result"
    }
   ],
   "source": [
    "results_dfsample = pd.DataFrame(res).T\n",
    "results"
   ]
  },
  {
   "cell_type": "code",
   "execution_count": 52,
   "metadata": {},
   "outputs": [
    {
     "data": {
      "text/plain": [
       "'I played this game with my son when he was three. I bought it for him now when hes almost 18. He still has to ask for help. :-) Im very happy about finding this game again finally'"
      ]
     },
     "execution_count": 52,
     "metadata": {},
     "output_type": "execute_result"
    }
   ],
   "source": [
    "df['reviewText'] [1249055]"
   ]
  }
 ],
 "metadata": {
  "kernelspec": {
   "display_name": "venv",
   "language": "python",
   "name": "python3"
  },
  "language_info": {
   "codemirror_mode": {
    "name": "ipython",
    "version": 3
   },
   "file_extension": ".py",
   "mimetype": "text/x-python",
   "name": "python",
   "nbconvert_exporter": "python",
   "pygments_lexer": "ipython3",
   "version": "3.11.4"
  },
  "orig_nbformat": 4
 },
 "nbformat": 4,
 "nbformat_minor": 2
}
